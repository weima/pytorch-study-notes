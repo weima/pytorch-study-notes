{
 "cells": [
  {
   "cell_type": "markdown",
   "metadata": {},
   "source": [
    "#### Study notes for TorchVision \n",
    "This is the study notes from [https://pytorch.org/tutorials/beginner/finetuning_torchvision_models_tutorial.html]\n",
    "\n",
    "To increase the code reuse, I have moved the help functions into the \"core\" folder\n"
   ]
  },
  {
   "cell_type": "code",
   "execution_count": 1,
   "metadata": {},
   "outputs": [
    {
     "name": "stdout",
     "output_type": "stream",
     "text": [
      "PyTorch Version:  1.0.0\n",
      "Torchvision Version:  0.2.1\n"
     ]
    }
   ],
   "source": [
    "from __future__ import print_function\n",
    "from __future__ import division\n",
    "import torch\n",
    "import torch.nn as nn\n",
    "import torch.optim as optim\n",
    "import numpy as np\n",
    "import torchvision\n",
    "from torchvision import datasets, models, transforms\n",
    "import matplotlib.pyplot as plt\n",
    "import time\n",
    "import os\n",
    "import sys\n",
    "import copy\n",
    "print(\"PyTorch Version: \", torch.__version__)\n",
    "print(\"Torchvision Version: \", torchvision.__version__)\n"
   ]
  },
  {
   "cell_type": "code",
   "execution_count": 17,
   "metadata": {},
   "outputs": [
    {
     "name": "stdout",
     "output_type": "stream",
     "text": [
      "Module Path:  /data/study/torch-1.0/pytorch-study-notes\n"
     ]
    }
   ],
   "source": [
    "# Eable local module access\n",
    "module_path = os.path.abspath(os.path.join('.'))\n",
    "if module_path not in sys.path:\n",
    "    sys.path.append(module_path)\n",
    "print(\"Module Path: \", module_path)\n"
   ]
  },
  {
   "cell_type": "code",
   "execution_count": null,
   "metadata": {},
   "outputs": [],
   "source": [
    "# Top level dta directory. Here we assume the format of the directory conforms\n",
    "data_dir = \"./data/hymenoptera_data\"\n",
    "\n",
    "from core.types import ModelName\n",
    "# Models to choose from [resnet, alexnet, vgg, squeezenet, desenet, inception]\n",
    "model_name = ModelName.Densenet\n",
    "\n",
    "# Number of classes in the dataset\n",
    "num_classes = 2\n",
    "\n",
    "# Batch size for training (The larger, the better, but requires more memory)\n",
    "batch_size = 8\n",
    "\n",
    "# Number of epoches to train for\n",
    "num_epoches = 15"
   ]
  },
  {
   "cell_type": "code",
   "execution_count": 8,
   "metadata": {},
   "outputs": [],
   "source": [
    "# Flag for feature extracting. When False, we finetune the whole model, \n",
    "# when True, we only update the reshaped layer params\n",
    "feature_extract = True"
   ]
  },
  {
   "cell_type": "code",
   "execution_count": 9,
   "metadata": {},
   "outputs": [],
   "source": [
    "from core.utils import device\n",
    "device = device"
   ]
  },
  {
   "cell_type": "code",
   "execution_count": 10,
   "metadata": {},
   "outputs": [],
   "source": [
    "# Setup the loss function\n",
    "criterion = nn.CrossEntropyLoss()"
   ]
  },
  {
   "cell_type": "code",
   "execution_count": 11,
   "metadata": {},
   "outputs": [
    {
     "name": "stderr",
     "output_type": "stream",
     "text": [
      "/home/weima/anaconda3/envs/torch-1.0/lib/python3.7/site-packages/torchvision/models/densenet.py:212: UserWarning: nn.init.kaiming_normal is now deprecated in favor of nn.init.kaiming_normal_.\n",
      "  nn.init.kaiming_normal(m.weight.data)\n"
     ]
    }
   ],
   "source": [
    "from core.network_initializer import initialize_model\n",
    "img_model = initialize_model(\n",
    "    device=device,\n",
    "    model_name=model_name,\n",
    "    num_classes = num_classes,\n",
    "    feature_extract=feature_extract\n",
    ")\n",
    "model_ft = img_model.model_ft\n",
    "input_size = img_model.input_size\n"
   ]
  },
  {
   "cell_type": "code",
   "execution_count": 12,
   "metadata": {},
   "outputs": [
    {
     "name": "stdout",
     "output_type": "stream",
     "text": [
      "Params to learn:\n",
      "\t classifier.weight\n",
      "\t classifier.bias\n"
     ]
    }
   ],
   "source": [
    "from core.param_optimizer import optimize_params\n",
    "\n",
    "optimize_ft = optimize_params(\n",
    "    model=img_model,\n",
    "    feature_extract=feature_extract\n",
    ")"
   ]
  },
  {
   "cell_type": "code",
   "execution_count": 13,
   "metadata": {},
   "outputs": [
    {
     "name": "stdout",
     "output_type": "stream",
     "text": [
      "Initializing Datasets and Dataloaders...\n"
     ]
    }
   ],
   "source": [
    "from core.data_loader import transform_data\n",
    "data_loaders = transform_data(\n",
    "    data_dir = data_dir,\n",
    "    input_size=input_size,\n",
    "    batch_size=batch_size\n",
    ")"
   ]
  },
  {
   "cell_type": "code",
   "execution_count": 14,
   "metadata": {},
   "outputs": [
    {
     "name": "stdout",
     "output_type": "stream",
     "text": [
      "Epoch 0/14\n",
      "----------\n",
      "train Loss: 0.6725 Acc: 0.5615 \n",
      "val Loss: 0.3292 Acc: 0.8954 \n",
      "\n",
      "Epoch 1/14\n",
      "----------\n",
      "train Loss: 0.3987 Acc: 0.8320 \n",
      "val Loss: 0.2897 Acc: 0.8889 \n",
      "\n",
      "Epoch 2/14\n",
      "----------\n",
      "train Loss: 0.3577 Acc: 0.8320 \n",
      "val Loss: 0.2399 Acc: 0.9020 \n",
      "\n",
      "Epoch 3/14\n",
      "----------\n",
      "train Loss: 0.2328 Acc: 0.8975 \n",
      "val Loss: 0.2012 Acc: 0.9216 \n",
      "\n",
      "Epoch 4/14\n",
      "----------\n",
      "train Loss: 0.2646 Acc: 0.8689 \n",
      "val Loss: 0.2153 Acc: 0.9085 \n",
      "\n",
      "Epoch 5/14\n",
      "----------\n",
      "train Loss: 0.2847 Acc: 0.8893 \n",
      "val Loss: 0.2174 Acc: 0.9281 \n",
      "\n",
      "Epoch 6/14\n",
      "----------\n",
      "train Loss: 0.2697 Acc: 0.8975 \n",
      "val Loss: 0.2007 Acc: 0.9346 \n",
      "\n",
      "Epoch 7/14\n",
      "----------\n",
      "train Loss: 0.2552 Acc: 0.9057 \n",
      "val Loss: 0.1959 Acc: 0.9150 \n",
      "\n",
      "Epoch 8/14\n",
      "----------\n",
      "train Loss: 0.2376 Acc: 0.8975 \n",
      "val Loss: 0.1994 Acc: 0.9216 \n",
      "\n",
      "Epoch 9/14\n",
      "----------\n",
      "train Loss: 0.2163 Acc: 0.8975 \n",
      "val Loss: 0.2037 Acc: 0.9150 \n",
      "\n",
      "Epoch 10/14\n",
      "----------\n",
      "train Loss: 0.3332 Acc: 0.8566 \n",
      "val Loss: 0.1981 Acc: 0.9281 \n",
      "\n",
      "Epoch 11/14\n",
      "----------\n",
      "train Loss: 0.2220 Acc: 0.9057 \n",
      "val Loss: 0.2017 Acc: 0.9020 \n",
      "\n",
      "Epoch 12/14\n",
      "----------\n",
      "train Loss: 0.2221 Acc: 0.9016 \n",
      "val Loss: 0.2207 Acc: 0.9085 \n",
      "\n",
      "Epoch 13/14\n",
      "----------\n",
      "train Loss: 0.1937 Acc: 0.9385 \n",
      "val Loss: 0.1974 Acc: 0.9281 \n",
      "\n",
      "Epoch 14/14\n",
      "----------\n",
      "train Loss: 0.3931 Acc: 0.8320 \n",
      "val Loss: 0.2622 Acc: 0.9020 \n",
      "\n",
      "Training completed in 0m 38s\n",
      "Best val Acc: 0.9346\n"
     ]
    }
   ],
   "source": [
    "from core.model_trainer import ModelTrainer\n",
    "trainer = ModelTrainer(\n",
    "    model=model_ft,\n",
    "    dataloaders=data_loaders,\n",
    "    optimizer=optimize_ft,\n",
    "    criterion=criterion,\n",
    "    number_epoches=num_epoches\n",
    ")\n",
    "\n",
    "good_model, acc_history = trainer.train()\n"
   ]
  },
  {
   "cell_type": "markdown",
   "metadata": {},
   "source": [
    "### COMPARISON WITH MODEL TRAINED FROM SCRATCH\n",
    "\n",
    "Just for fun, lets see how the model learns if we do not use transfer   \n",
    "  learning. The performance of fine-tuning vs. feature extracting depends  \n",
    "  largely on the dataset but in general both transfer learning methods  \n",
    "  produce favorable result in terms of traing time and overall accuracy \n",
    "  versus a model trained from scratch"
   ]
  },
  {
   "cell_type": "code",
   "execution_count": 15,
   "metadata": {},
   "outputs": [
    {
     "name": "stdout",
     "output_type": "stream",
     "text": [
      "Epoch 0/14\n",
      "----------\n",
      "train Loss: 0.6932 Acc: 0.5287 \n",
      "val Loss: 0.6844 Acc: 0.5948 \n",
      "\n",
      "Epoch 1/14\n",
      "----------\n",
      "train Loss: 0.6666 Acc: 0.6434 \n",
      "val Loss: 0.7208 Acc: 0.5817 \n",
      "\n",
      "Epoch 2/14\n",
      "----------\n",
      "train Loss: 0.6306 Acc: 0.6434 \n",
      "val Loss: 0.7510 Acc: 0.5817 \n",
      "\n",
      "Epoch 3/14\n",
      "----------\n",
      "train Loss: 0.6402 Acc: 0.6311 \n",
      "val Loss: 0.6944 Acc: 0.6471 \n",
      "\n",
      "Epoch 4/14\n",
      "----------\n",
      "train Loss: 0.6433 Acc: 0.6148 \n",
      "val Loss: 0.6675 Acc: 0.6536 \n",
      "\n",
      "Epoch 5/14\n",
      "----------\n",
      "train Loss: 0.6129 Acc: 0.6475 \n",
      "val Loss: 0.7120 Acc: 0.6601 \n",
      "\n",
      "Epoch 6/14\n",
      "----------\n",
      "train Loss: 0.6261 Acc: 0.6721 \n",
      "val Loss: 0.6647 Acc: 0.6340 \n",
      "\n",
      "Epoch 7/14\n",
      "----------\n",
      "train Loss: 0.5809 Acc: 0.6557 \n",
      "val Loss: 0.6173 Acc: 0.6863 \n",
      "\n",
      "Epoch 8/14\n",
      "----------\n",
      "train Loss: 0.5551 Acc: 0.6926 \n",
      "val Loss: 0.6140 Acc: 0.7059 \n",
      "\n",
      "Epoch 9/14\n",
      "----------\n",
      "train Loss: 0.5792 Acc: 0.6803 \n",
      "val Loss: 0.7882 Acc: 0.6732 \n",
      "\n",
      "Epoch 10/14\n",
      "----------\n",
      "train Loss: 0.6208 Acc: 0.6721 \n",
      "val Loss: 0.7453 Acc: 0.6078 \n",
      "\n",
      "Epoch 11/14\n",
      "----------\n",
      "train Loss: 0.5454 Acc: 0.7336 \n",
      "val Loss: 0.6067 Acc: 0.6797 \n",
      "\n",
      "Epoch 12/14\n",
      "----------\n",
      "train Loss: 0.5816 Acc: 0.7049 \n",
      "val Loss: 0.7056 Acc: 0.6928 \n",
      "\n",
      "Epoch 13/14\n",
      "----------\n",
      "train Loss: 0.5968 Acc: 0.6639 \n",
      "val Loss: 0.8779 Acc: 0.6471 \n",
      "\n",
      "Epoch 14/14\n",
      "----------\n",
      "train Loss: 0.5516 Acc: 0.6844 \n",
      "val Loss: 0.7239 Acc: 0.6993 \n",
      "\n",
      "Training completed in 1m 18s\n",
      "Best val Acc: 0.7059\n"
     ]
    },
    {
     "data": {
      "image/png": "[encoded data removed]",
      "text/plain": [
       "<Figure size 432x288 with 1 Axes>"
      ]
     },
     "metadata": {
      "needs_background": "light"
     },
     "output_type": "display_data"
    }
   ],
   "source": [
    "scratch_img_model = initialize_model(\n",
    "    model_name=model_name,\n",
    "    num_classes=num_classes,\n",
    "    feature_extract=False,\n",
    "    use_pretrained=False,\n",
    "    device = device,\n",
    ")\n",
    "scratch_model_ft = scratch_img_model.model_ft\n",
    "scratch_optimizer = optim.SGD(\n",
    "    scratch_model_ft.parameters(), \n",
    "    lr=0.001, \n",
    "    momentum=0.9\n",
    ")\n",
    "scratch_criterion=nn.CrossEntropyLoss()\n",
    "scratch_trainer = ModelTrainer(\n",
    "    model=scratch_model_ft,\n",
    "    dataloaders=data_loaders,\n",
    "    criterion=scratch_criterion,\n",
    "    optimizer=scratch_optimizer,\n",
    "    number_epoches=num_epoches\n",
    "\n",
    ")\n",
    "good_scratch_model, scratch_acc_history = scratch_trainer.train()\n",
    "\n",
    "ohist = []\n",
    "shist = []\n",
    "\n",
    "ohist = [h.cpu().numpy() for h in acc_history]\n",
    "shist = [h.cpu().numpy() for h in scratch_acc_history]\n",
    "\n",
    "plt.title(\"Validation Accuracy vs. Number of Training Epochs\")\n",
    "plt.xlabel(\"Training Epochs\")\n",
    "plt.ylabel(\"Validation Accuracy\")\n",
    "plt.plot(range(1,num_epoches+1),ohist,label=\"Pretrained\")\n",
    "plt.plot(range(1,num_epoches+1),shist,label=\"Scratch\")\n",
    "plt.ylim((0,1.))\n",
    "plt.xticks(np.arange(1, num_epoches+1, 1.0))\n",
    "plt.legend()\n",
    "plt.show()"
   ]
  },
  {
   "cell_type": "code",
   "execution_count": null,
   "metadata": {},
   "outputs": [],
   "source": []
  },
  {
   "cell_type": "code",
   "execution_count": null,
   "metadata": {},
   "outputs": [],
   "source": []
  },
  {
   "cell_type": "code",
   "execution_count": null,
   "metadata": {},
   "outputs": [],
   "source": []
  }
 ],
 "metadata": {
  "kernelspec": {
   "display_name": "torch-1.0",
   "language": "python",
   "name": "torch-1.0"
  },
  "language_info": {
   "codemirror_mode": {
    "name": "ipython",
    "version": 3
   },
   "file_extension": ".py",
   "mimetype": "text/x-python",
   "name": "python",
   "nbconvert_exporter": "python",
   "pygments_lexer": "ipython3",
   "version": "3.7.1"
  }
 },
 "nbformat": 4,
 "nbformat_minor": 2
}
